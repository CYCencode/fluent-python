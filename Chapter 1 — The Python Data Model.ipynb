{
 "cells": [
  {
   "cell_type": "code",
   "execution_count": 1,
   "metadata": {},
   "outputs": [],
   "source": [
    "# module of pocker \n",
    "import collections\n",
    "\n",
    "Card = collections.namedtuple('Card', ['rank', 'suit'])\n",
    "\n",
    "class FrenchDeck:\n",
    "  ranks = [str(n) for n in range(2,11)] + list('JQKA')\n",
    "  suits  = 'spades diamonds clubs hearts'.split()\n",
    "\n",
    "  def __init__(self):\n",
    "    self._cards  = [Card(rank,suit) for suit in self.suits\n",
    "                      for rank in self.ranks]\n",
    "  def __len__(self):\n",
    "    return len(self._cards)\n",
    "\n",
    "  def __getitem__(self, position):\n",
    "    return self._cards[position] "
   ]
  },
  {
   "cell_type": "markdown",
   "metadata": {},
   "source": [
    "> namedtuple   \n",
    "  當一個tuple具有許多item，但欄位性質又還沒複雜到需要用class來管理，就適合以namedtuple、以欄位名存取各item的欄位性質。"
   ]
  },
  {
   "cell_type": "code",
   "execution_count": 2,
   "metadata": {},
   "outputs": [
    {
     "data": {
      "text/plain": [
       "(Card(rank='2', suit='spades'), Card(rank='A', suit='hearts'))"
      ]
     },
     "execution_count": 2,
     "metadata": {},
     "output_type": "execute_result"
    }
   ],
   "source": [
    "# 取得第一張、最後一張卡\n",
    "deck = FrenchDeck()\n",
    "deck[0], deck[-1]"
   ]
  },
  {
   "cell_type": "code",
   "execution_count": 3,
   "metadata": {},
   "outputs": [
    {
     "data": {
      "text/plain": [
       "Card(rank='K', suit='diamonds')"
      ]
     },
     "execution_count": 3,
     "metadata": {},
     "output_type": "execute_result"
    }
   ],
   "source": [
    "# 隨機抽卡\n",
    "import random\n",
    "random.choice(deck)"
   ]
  },
  {
   "cell_type": "code",
   "execution_count": 4,
   "metadata": {},
   "outputs": [
    {
     "data": {
      "text/plain": [
       "[Card(rank='2', suit='spades'),\n",
       " Card(rank='3', suit='spades'),\n",
       " Card(rank='4', suit='spades')]"
      ]
     },
     "execution_count": 4,
     "metadata": {},
     "output_type": "execute_result"
    }
   ],
   "source": [
    "# 因為__getitem__是使用 self._cards的[]運算子，因此支援slicing功能\n",
    "deck[:3]"
   ]
  },
  {
   "cell_type": "code",
   "execution_count": 5,
   "metadata": {},
   "outputs": [
    {
     "name": "stdout",
     "output_type": "stream",
     "text": [
      "Card(rank='4', suit='spades')\n",
      "Card(rank='3', suit='spades')\n",
      "Card(rank='2', suit='spades')\n"
     ]
    }
   ],
   "source": [
    "for card in reversed(deck[:3]): print(card)"
   ]
  },
  {
   "cell_type": "markdown",
   "metadata": {},
   "source": [
    "* FrenchDeck是一個 Pythonic 的函數，透過__len__與__getitem__ 取得 python的迭代、slicing功能\n"
   ]
  },
  {
   "cell_type": "markdown",
   "metadata": {},
   "source": [
    "> Dunder Method (前後雙底線)  \n",
    "python事先提供一些可覆寫的函數，直譯器會直接呼叫這些Dunder Method，這也是python程式碼簡潔的原因之一 \n",
    "* object.__len__(self)  : 調用此方法以實現內置函數 len()\n",
    "* object.__getitem__(self, key) : 調用此方法以實現 self[key] 的求值。對於序列類型，接受的鍵應爲整數和切片對象。\n",
    "\n",
    "更多關於Python的Data Model 可參閱官方文件 : https://docs.python.org/3.8/reference/datamodel.html#data-model"
   ]
  },
  {
   "cell_type": "markdown",
   "metadata": {},
   "source": []
  }
 ],
 "metadata": {
  "kernelspec": {
   "display_name": "Py37",
   "language": "python",
   "name": "7_6env"
  },
  "language_info": {
   "codemirror_mode": {
    "name": "ipython",
    "version": 3
   },
   "file_extension": ".py",
   "mimetype": "text/x-python",
   "name": "python",
   "nbconvert_exporter": "python",
   "pygments_lexer": "ipython3",
   "version": "3.7.7"
  },
  "orig_nbformat": 4
 },
 "nbformat": 4,
 "nbformat_minor": 2
}
